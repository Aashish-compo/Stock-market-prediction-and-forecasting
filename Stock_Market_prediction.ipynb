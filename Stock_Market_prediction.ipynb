{
 "cells": [
  {
   "cell_type": "markdown",
   "id": "df116ae3",
   "metadata": {},
   "source": [
    "# Stock Market Prediction And Forecasting Using Stacked LSTM @ Let'sGrowMore\n",
    "\n"
   ]
  },
  {
   "cell_type": "raw",
   "id": "89bb8769",
   "metadata": {},
   "source": [
    "# Done By Aashish karn"
   ]
  },
  {
   "cell_type": "markdown",
   "id": "60c9f755",
   "metadata": {},
   "source": [
    "### In this project we are going to do univariate method of analysis. We'll use only the close parameter of the data to predict th\n",
    "### next data. We are going to apply RNN recurrent neural network or LSTM (Long short term memory) which is very useful for\n",
    "### for the time series analysis. We are going to find the pattern for the close price of the data"
   ]
  },
  {
   "cell_type": "markdown",
   "id": "307dcad5",
   "metadata": {},
   "source": [
    "   ## 1. Importing the important libraries and loading the datasets"
   ]
  },
  {
   "cell_type": "code",
   "execution_count": 2,
   "id": "65884b2e",
   "metadata": {},
   "outputs": [],
   "source": [
    "import numpy as np\n",
    "import pandas as pd\n",
    "import matplotlib.pyplot as plt"
   ]
  },
  {
   "cell_type": "code",
   "execution_count": 3,
   "id": "0fe28d82",
   "metadata": {},
   "outputs": [
    {
     "data": {
      "text/html": [
       "<div>\n",
       "<style scoped>\n",
       "    .dataframe tbody tr th:only-of-type {\n",
       "        vertical-align: middle;\n",
       "    }\n",
       "\n",
       "    .dataframe tbody tr th {\n",
       "        vertical-align: top;\n",
       "    }\n",
       "\n",
       "    .dataframe thead th {\n",
       "        text-align: right;\n",
       "    }\n",
       "</style>\n",
       "<table border=\"1\" class=\"dataframe\">\n",
       "  <thead>\n",
       "    <tr style=\"text-align: right;\">\n",
       "      <th></th>\n",
       "      <th>Date</th>\n",
       "      <th>Open</th>\n",
       "      <th>High</th>\n",
       "      <th>Low</th>\n",
       "      <th>Last</th>\n",
       "      <th>Close</th>\n",
       "      <th>Total Trade Quantity</th>\n",
       "      <th>Turnover (Lacs)</th>\n",
       "    </tr>\n",
       "  </thead>\n",
       "  <tbody>\n",
       "    <tr>\n",
       "      <th>0</th>\n",
       "      <td>2018-09-28</td>\n",
       "      <td>234.05</td>\n",
       "      <td>235.95</td>\n",
       "      <td>230.20</td>\n",
       "      <td>233.50</td>\n",
       "      <td>233.75</td>\n",
       "      <td>3069914</td>\n",
       "      <td>7162.35</td>\n",
       "    </tr>\n",
       "    <tr>\n",
       "      <th>1</th>\n",
       "      <td>2018-09-27</td>\n",
       "      <td>234.55</td>\n",
       "      <td>236.80</td>\n",
       "      <td>231.10</td>\n",
       "      <td>233.80</td>\n",
       "      <td>233.25</td>\n",
       "      <td>5082859</td>\n",
       "      <td>11859.95</td>\n",
       "    </tr>\n",
       "    <tr>\n",
       "      <th>2</th>\n",
       "      <td>2018-09-26</td>\n",
       "      <td>240.00</td>\n",
       "      <td>240.00</td>\n",
       "      <td>232.50</td>\n",
       "      <td>235.00</td>\n",
       "      <td>234.25</td>\n",
       "      <td>2240909</td>\n",
       "      <td>5248.60</td>\n",
       "    </tr>\n",
       "    <tr>\n",
       "      <th>3</th>\n",
       "      <td>2018-09-25</td>\n",
       "      <td>233.30</td>\n",
       "      <td>236.75</td>\n",
       "      <td>232.00</td>\n",
       "      <td>236.25</td>\n",
       "      <td>236.10</td>\n",
       "      <td>2349368</td>\n",
       "      <td>5503.90</td>\n",
       "    </tr>\n",
       "    <tr>\n",
       "      <th>4</th>\n",
       "      <td>2018-09-24</td>\n",
       "      <td>233.55</td>\n",
       "      <td>239.20</td>\n",
       "      <td>230.75</td>\n",
       "      <td>234.00</td>\n",
       "      <td>233.30</td>\n",
       "      <td>3423509</td>\n",
       "      <td>7999.55</td>\n",
       "    </tr>\n",
       "    <tr>\n",
       "      <th>...</th>\n",
       "      <td>...</td>\n",
       "      <td>...</td>\n",
       "      <td>...</td>\n",
       "      <td>...</td>\n",
       "      <td>...</td>\n",
       "      <td>...</td>\n",
       "      <td>...</td>\n",
       "      <td>...</td>\n",
       "    </tr>\n",
       "    <tr>\n",
       "      <th>2030</th>\n",
       "      <td>2010-07-27</td>\n",
       "      <td>117.60</td>\n",
       "      <td>119.50</td>\n",
       "      <td>112.00</td>\n",
       "      <td>118.80</td>\n",
       "      <td>118.65</td>\n",
       "      <td>586100</td>\n",
       "      <td>694.98</td>\n",
       "    </tr>\n",
       "    <tr>\n",
       "      <th>2031</th>\n",
       "      <td>2010-07-26</td>\n",
       "      <td>120.10</td>\n",
       "      <td>121.00</td>\n",
       "      <td>117.10</td>\n",
       "      <td>117.10</td>\n",
       "      <td>117.60</td>\n",
       "      <td>658440</td>\n",
       "      <td>780.01</td>\n",
       "    </tr>\n",
       "    <tr>\n",
       "      <th>2032</th>\n",
       "      <td>2010-07-23</td>\n",
       "      <td>121.80</td>\n",
       "      <td>121.95</td>\n",
       "      <td>120.25</td>\n",
       "      <td>120.35</td>\n",
       "      <td>120.65</td>\n",
       "      <td>281312</td>\n",
       "      <td>340.31</td>\n",
       "    </tr>\n",
       "    <tr>\n",
       "      <th>2033</th>\n",
       "      <td>2010-07-22</td>\n",
       "      <td>120.30</td>\n",
       "      <td>122.00</td>\n",
       "      <td>120.25</td>\n",
       "      <td>120.75</td>\n",
       "      <td>120.90</td>\n",
       "      <td>293312</td>\n",
       "      <td>355.17</td>\n",
       "    </tr>\n",
       "    <tr>\n",
       "      <th>2034</th>\n",
       "      <td>2010-07-21</td>\n",
       "      <td>122.10</td>\n",
       "      <td>123.00</td>\n",
       "      <td>121.05</td>\n",
       "      <td>121.10</td>\n",
       "      <td>121.55</td>\n",
       "      <td>658666</td>\n",
       "      <td>803.56</td>\n",
       "    </tr>\n",
       "  </tbody>\n",
       "</table>\n",
       "<p>2035 rows × 8 columns</p>\n",
       "</div>"
      ],
      "text/plain": [
       "            Date    Open    High     Low    Last   Close  \\\n",
       "0     2018-09-28  234.05  235.95  230.20  233.50  233.75   \n",
       "1     2018-09-27  234.55  236.80  231.10  233.80  233.25   \n",
       "2     2018-09-26  240.00  240.00  232.50  235.00  234.25   \n",
       "3     2018-09-25  233.30  236.75  232.00  236.25  236.10   \n",
       "4     2018-09-24  233.55  239.20  230.75  234.00  233.30   \n",
       "...          ...     ...     ...     ...     ...     ...   \n",
       "2030  2010-07-27  117.60  119.50  112.00  118.80  118.65   \n",
       "2031  2010-07-26  120.10  121.00  117.10  117.10  117.60   \n",
       "2032  2010-07-23  121.80  121.95  120.25  120.35  120.65   \n",
       "2033  2010-07-22  120.30  122.00  120.25  120.75  120.90   \n",
       "2034  2010-07-21  122.10  123.00  121.05  121.10  121.55   \n",
       "\n",
       "      Total Trade Quantity  Turnover (Lacs)  \n",
       "0                  3069914          7162.35  \n",
       "1                  5082859         11859.95  \n",
       "2                  2240909          5248.60  \n",
       "3                  2349368          5503.90  \n",
       "4                  3423509          7999.55  \n",
       "...                    ...              ...  \n",
       "2030                586100           694.98  \n",
       "2031                658440           780.01  \n",
       "2032                281312           340.31  \n",
       "2033                293312           355.17  \n",
       "2034                658666           803.56  \n",
       "\n",
       "[2035 rows x 8 columns]"
      ]
     },
     "execution_count": 3,
     "metadata": {},
     "output_type": "execute_result"
    }
   ],
   "source": [
    "stock_dataset = pd.read_csv(\"https://raw.githubusercontent.com/mwitiderrick/stockprice/master/NSE-TATAGLOBAL.csv\")\n",
    "stock_dataset"
   ]
  },
  {
   "cell_type": "markdown",
   "id": "21fab7e9",
   "metadata": {},
   "source": [
    "### 2. Exploring Datasets"
   ]
  },
  {
   "cell_type": "code",
   "execution_count": 4,
   "id": "5db151b0",
   "metadata": {},
   "outputs": [
    {
     "data": {
      "text/plain": [
       "Date                    0\n",
       "Open                    0\n",
       "High                    0\n",
       "Low                     0\n",
       "Last                    0\n",
       "Close                   0\n",
       "Total Trade Quantity    0\n",
       "Turnover (Lacs)         0\n",
       "dtype: int64"
      ]
     },
     "execution_count": 4,
     "metadata": {},
     "output_type": "execute_result"
    }
   ],
   "source": [
    "stock_dataset.isnull().sum()"
   ]
  },
  {
   "cell_type": "code",
   "execution_count": 5,
   "id": "2d0a21b4",
   "metadata": {},
   "outputs": [
    {
     "data": {
      "text/plain": [
       "2034    2010-07-21\n",
       "2033    2010-07-22\n",
       "2032    2010-07-23\n",
       "2031    2010-07-26\n",
       "2030    2010-07-27\n",
       "Name: Date, dtype: object"
      ]
     },
     "execution_count": 5,
     "metadata": {},
     "output_type": "execute_result"
    }
   ],
   "source": [
    "#Let's sort the value in the acesding order of the Date to get perfect insights of data\n",
    "stock_dataset.sort_values(by=[\"Date\"], inplace=True, ascending=True)\n",
    "stock_dataset.Date.head()"
   ]
  },
  {
   "cell_type": "markdown",
   "id": "c2ed2bdf",
   "metadata": {},
   "source": [
    "We can see that there is no null data so we can go forward with preprocesssing"
   ]
  },
  {
   "cell_type": "markdown",
   "id": "cbaa7655",
   "metadata": {},
   "source": [
    "## 3.Visualising the dataset's property"
   ]
  },
  {
   "cell_type": "markdown",
   "id": "ae77048a",
   "metadata": {},
   "source": [
    "Plotting the Open and Close price using according to date."
   ]
  },
  {
   "cell_type": "code",
   "execution_count": 6,
   "id": "e18c2584",
   "metadata": {},
   "outputs": [
    {
     "data": {
      "text/plain": [
       "[<matplotlib.lines.Line2D at 0x2a38ca38610>]"
      ]
     },
     "execution_count": 6,
     "metadata": {},
     "output_type": "execute_result"
    },
    {
     "data": {
      "image/png": "[encoded data removed]",
      "text/plain": [
       "<Figure size 432x288 with 1 Axes>"
      ]
     },
     "metadata": {
      "needs_background": "light"
     },
     "output_type": "display_data"
    }
   ],
   "source": [
    "newdate = stock_dataset[\"Date\"]\n",
    "newdate\n",
    "newopen = stock_dataset[\"Open\"]\n",
    "newdate\n",
    "plt.plot(newdate,newopen)\n"
   ]
  },
  {
   "cell_type": "code",
   "execution_count": 6,
   "id": "d95200a1",
   "metadata": {},
   "outputs": [
    {
     "data": {
      "text/plain": [
       "[<matplotlib.lines.Line2D at 0x189bc287670>]"
      ]
     },
     "execution_count": 6,
     "metadata": {},
     "output_type": "execute_result"
    },
    {
     "data": {
      "image/png": "[encoded data removed]",
      "text/plain": [
       "<Figure size 432x288 with 1 Axes>"
      ]
     },
     "metadata": {
      "needs_background": "light"
     },
     "output_type": "display_data"
    }
   ],
   "source": [
    "newdate = stock_dataset[\"Date\"]\n",
    "newdate\n",
    "newclose = stock_dataset[\"Close\"]\n",
    "newdate\n",
    "plt.plot(newdate,newclose)"
   ]
  },
  {
   "attachments": {
    "image.png": {
     "image/png": "[encoded data removed]"
    }
   },
   "cell_type": "markdown",
   "id": "257aea92",
   "metadata": {},
   "source": [
    "## 4. Feature Scaling: Since big numbers increases the computational complexity. We are going to Normalize it from 0 to 1.\n",
    "\n",
    "Note: It's always not a good choice to do Normalize data which don't have the fix upper or lower limit like in stock markt.\n",
    "But we do here for learning\n",
    "\n",
    "\n",
    "![image.png](attachment:image.png)"
   ]
  },
  {
   "cell_type": "code",
   "execution_count": 6,
   "id": "d6f2a769",
   "metadata": {},
   "outputs": [
    {
     "data": {
      "text/plain": [
       "(2035, 1)"
      ]
     },
     "execution_count": 6,
     "metadata": {},
     "output_type": "execute_result"
    }
   ],
   "source": [
    "from sklearn.preprocessing import MinMaxScaler\n",
    "\n",
    "scaler = MinMaxScaler(feature_range = (0,1))\n",
    "\n",
    "\n",
    "#Because we are going to make prediction on th basis of closing price\n",
    "close_price = stock_dataset[\"Close\"]\n",
    "\n",
    "close_price = np.array(close_price).reshape(-1 , 1)\n",
    "\n",
    "\n",
    "transformed_closed_value =  scaler.fit_transform(close_price)\n",
    "\n",
    "df = transformed_closed_value\n",
    "\n",
    "df.shape"
   ]
  },
  {
   "cell_type": "markdown",
   "id": "47aa3de2",
   "metadata": {},
   "source": [
    "## 5. Splitting Datasets for training and testing"
   ]
  },
  {
   "cell_type": "markdown",
   "id": "0008e604",
   "metadata": {},
   "source": [
    "### we are going to use close value for the prediction. So, we will predict the future price using the close price of the data set.\n",
    "### We are going to use the LSTM. It's a kind of neural network called RNN. RNN rebembers the past the data and use it for the giving output of the next data."
   ]
  },
  {
   "cell_type": "markdown",
   "id": "15a53b61",
   "metadata": {},
   "source": [
    "Let's use 60% of data for the trainin and remainin for the testing"
   ]
  },
  {
   "cell_type": "code",
   "execution_count": 7,
   "id": "56e8b062",
   "metadata": {},
   "outputs": [],
   "source": [
    "training_data_length = int(0.6 * len(df))\n",
    "testing_data_length  = int(len(df) - training_data_length)"
   ]
  },
  {
   "cell_type": "code",
   "execution_count": 8,
   "id": "eab09226",
   "metadata": {},
   "outputs": [],
   "source": [
    "training_data = df[:training_data_length]\n",
    "testing_data  = df[training_data_length:]"
   ]
  },
  {
   "cell_type": "code",
   "execution_count": 9,
   "id": "27e3fb35",
   "metadata": {},
   "outputs": [
    {
     "name": "stdout",
     "output_type": "stream",
     "text": [
      "size of training data is 1221 and testing data is 814 \n"
     ]
    },
    {
     "data": {
      "text/plain": [
       "2035"
      ]
     },
     "execution_count": 9,
     "metadata": {},
     "output_type": "execute_result"
    }
   ],
   "source": [
    "print(f\"size of training data is {len(training_data)} and testing data is {len(testing_data)} \")\n",
    "\n",
    "1221+814\n"
   ]
  },
  {
   "cell_type": "markdown",
   "id": "3374479e",
   "metadata": {},
   "source": [
    "#### For this LSTM we are using previous closing price as the input of the data and using n number of previous price 'X' we \n",
    "#### give out put to n + 1 closing price as the 'Y' of the data"
   ]
  },
  {
   "cell_type": "code",
   "execution_count": 10,
   "id": "cae52f9d",
   "metadata": {},
   "outputs": [],
   "source": [
    "def create_dataset(dataset , n_dataset_length):\n",
    "    X =[]\n",
    "    Y =[]\n",
    "    for i in range(len(dataset) - n_dataset_length - 1):\n",
    "        X.append(dataset[i:i + n_dataset_length , 0])\n",
    "        Y.append(dataset[i + n_dataset_length , 0])\n",
    "    return np.array(X) , np.array(Y)"
   ]
  },
  {
   "cell_type": "code",
   "execution_count": 11,
   "id": "d409adf8",
   "metadata": {},
   "outputs": [],
   "source": [
    "n_dataset_length = 50\n",
    "\n",
    "X_training , Y_training = create_dataset(training_data , n_dataset_length)\n",
    "X_testing , Y_testing   = create_dataset(testing_data , n_dataset_length)"
   ]
  },
  {
   "cell_type": "markdown",
   "id": "8f54e5c7",
   "metadata": {},
   "source": [
    "#### we can clearly see that 50 dataset is used for the prediction for the 51st dataset."
   ]
  },
  {
   "cell_type": "markdown",
   "id": "9408e6a1",
   "metadata": {},
   "source": [
    "## 6. Creating stack LSTM model"
   ]
  },
  {
   "cell_type": "code",
   "execution_count": 12,
   "id": "e32d512d",
   "metadata": {},
   "outputs": [
    {
     "name": "stdout",
     "output_type": "stream",
     "text": [
      "(1170, 50)\n",
      "(763, 50)\n",
      "(1170,)\n",
      "(763,)\n"
     ]
    },
    {
     "data": {
      "text/plain": [
       "(None, None, None, None)"
      ]
     },
     "execution_count": 12,
     "metadata": {},
     "output_type": "execute_result"
    }
   ],
   "source": [
    "print(X_training.shape) , print(X_testing.shape) , print(Y_training.shape) , print(Y_testing.shape)"
   ]
  },
  {
   "cell_type": "code",
   "execution_count": 89,
   "id": "8848313b",
   "metadata": {},
   "outputs": [],
   "source": [
    "#reshaping in the 3d \n",
    "\n",
    "X_training = X_training.reshape(X_training.shape[0] , X_training.shape[1] , 1)\n",
    "X_testing  = X_testing.reshape(X_testing.shape[0] , X_testing.shape[1] , 1)"
   ]
  },
  {
   "attachments": {
    "image.png": {
     "image/png": "[encoded data removed]"
    }
   },
   "cell_type": "markdown",
   "id": "29b2a37d",
   "metadata": {},
   "source": [
    "#### Reason for reshaping\n",
    "\n",
    "![image.png](attachment:image.png)\n",
    "\n",
    "\n",
    "source : stackoverflow"
   ]
  },
  {
   "attachments": {
    "image-2.png": {
     "image/png": "[encoded data removed]"
    },
    "image.png": {
     "image/png": "[encoded data removed]"
    }
   },
   "cell_type": "markdown",
   "id": "5a001d52",
   "metadata": {},
   "source": [
    "### We use Sequential class of keras for making our stack LSTM model\n",
    "\n",
    "![image.png](attachment:image.png)\n",
    "\n",
    "\n",
    "\n",
    "![image-2.png](attachment:image-2.png)"
   ]
  },
  {
   "cell_type": "code",
   "execution_count": 72,
   "id": "80dc4cad",
   "metadata": {},
   "outputs": [],
   "source": [
    "\n",
    "from tensorflow.keras.models import Sequential\n",
    "from tensorflow.keras.layers import Dense\n",
    "from tensorflow.keras.layers import LSTM\n",
    "\n",
    "mdl = Sequential()\n",
    "\n",
    "# Optionally, the first layer can receive an `input_shape` argument\n",
    "mdl.add(LSTM(50, return_sequences=True, input_shape=(50, 1))) \n",
    "\n",
    "#inner layer\n",
    "mdl.add(LSTM(50, return_sequences=True))\n",
    "mdl.add(LSTM(50))\n",
    "\n",
    "#output layer\n",
    "mdl.add(Dense(1))\n",
    "\n",
    "mdl.compile(loss='mean_squared_error', optimizer='adam')"
   ]
  },
  {
   "cell_type": "code",
   "execution_count": 15,
   "id": "d2854b89",
   "metadata": {},
   "outputs": [
    {
     "name": "stdout",
     "output_type": "stream",
     "text": [
      "Model: \"sequential\"\n",
      "_________________________________________________________________\n",
      " Layer (type)                Output Shape              Param #   \n",
      "=================================================================\n",
      " lstm (LSTM)                 (None, 50, 50)            10400     \n",
      "                                                                 \n",
      " lstm_1 (LSTM)               (None, 50, 50)            20200     \n",
      "                                                                 \n",
      " lstm_2 (LSTM)               (None, 50)                20200     \n",
      "                                                                 \n",
      " dense (Dense)               (None, 1)                 51        \n",
      "                                                                 \n",
      "=================================================================\n",
      "Total params: 50,851\n",
      "Trainable params: 50,851\n",
      "Non-trainable params: 0\n",
      "_________________________________________________________________\n"
     ]
    }
   ],
   "source": [
    "mdl.summary()"
   ]
  },
  {
   "cell_type": "code",
   "execution_count": 74,
   "id": "8d116121",
   "metadata": {},
   "outputs": [
    {
     "name": "stdout",
     "output_type": "stream",
     "text": [
      "Epoch 1/100\n",
      "19/19 [==============================] - 20s 357ms/step - loss: 0.0097 - val_loss: 0.0166\n",
      "Epoch 2/100\n",
      "19/19 [==============================] - 4s 233ms/step - loss: 0.0018 - val_loss: 0.0036\n",
      "Epoch 3/100\n",
      "19/19 [==============================] - 4s 188ms/step - loss: 8.7220e-04 - val_loss: 0.0024\n",
      "Epoch 4/100\n",
      "19/19 [==============================] - 3s 161ms/step - loss: 8.3788e-04 - val_loss: 0.0038\n",
      "Epoch 5/100\n",
      "19/19 [==============================] - 3s 154ms/step - loss: 8.2411e-04 - val_loss: 0.0034\n",
      "Epoch 6/100\n",
      "19/19 [==============================] - 3s 155ms/step - loss: 8.3653e-04 - val_loss: 0.0030\n",
      "Epoch 7/100\n",
      "19/19 [==============================] - 3s 154ms/step - loss: 7.8884e-04 - val_loss: 0.0032\n",
      "Epoch 8/100\n",
      "19/19 [==============================] - 3s 150ms/step - loss: 7.6600e-04 - val_loss: 0.0026\n",
      "Epoch 9/100\n",
      "19/19 [==============================] - 3s 140ms/step - loss: 7.6822e-04 - val_loss: 0.0039\n",
      "Epoch 10/100\n",
      "19/19 [==============================] - 3s 141ms/step - loss: 7.4640e-04 - val_loss: 0.0036\n",
      "Epoch 11/100\n",
      "19/19 [==============================] - 2s 132ms/step - loss: 7.5155e-04 - val_loss: 0.0034\n",
      "Epoch 12/100\n",
      "19/19 [==============================] - 2s 129ms/step - loss: 7.7317e-04 - val_loss: 0.0027\n",
      "Epoch 13/100\n",
      "19/19 [==============================] - 2s 129ms/step - loss: 6.7969e-04 - val_loss: 0.0033\n",
      "Epoch 14/100\n",
      "19/19 [==============================] - 2s 125ms/step - loss: 6.7516e-04 - val_loss: 0.0034\n",
      "Epoch 15/100\n",
      "19/19 [==============================] - 2s 122ms/step - loss: 6.7588e-04 - val_loss: 0.0036\n",
      "Epoch 16/100\n",
      "19/19 [==============================] - 2s 121ms/step - loss: 6.5916e-04 - val_loss: 0.0033\n",
      "Epoch 17/100\n",
      "19/19 [==============================] - 2s 122ms/step - loss: 6.2305e-04 - val_loss: 0.0024\n",
      "Epoch 18/100\n",
      "19/19 [==============================] - 2s 122ms/step - loss: 6.1735e-04 - val_loss: 0.0044\n",
      "Epoch 19/100\n",
      "19/19 [==============================] - 2s 123ms/step - loss: 6.0852e-04 - val_loss: 0.0029\n",
      "Epoch 20/100\n",
      "19/19 [==============================] - 2s 121ms/step - loss: 5.8736e-04 - val_loss: 0.0027\n",
      "Epoch 21/100\n",
      "19/19 [==============================] - 2s 121ms/step - loss: 6.1499e-04 - val_loss: 0.0028\n",
      "Epoch 22/100\n",
      "19/19 [==============================] - 2s 123ms/step - loss: 5.5474e-04 - val_loss: 0.0030\n",
      "Epoch 23/100\n",
      "19/19 [==============================] - 2s 122ms/step - loss: 5.5455e-04 - val_loss: 0.0034\n",
      "Epoch 24/100\n",
      "19/19 [==============================] - 2s 123ms/step - loss: 5.6785e-04 - val_loss: 0.0024\n",
      "Epoch 25/100\n",
      "19/19 [==============================] - 2s 124ms/step - loss: 5.4231e-04 - val_loss: 0.0021\n",
      "Epoch 26/100\n",
      "19/19 [==============================] - 2s 122ms/step - loss: 5.4300e-04 - val_loss: 0.0044\n",
      "Epoch 27/100\n",
      "19/19 [==============================] - 2s 122ms/step - loss: 5.3421e-04 - val_loss: 0.0049\n",
      "Epoch 28/100\n",
      "19/19 [==============================] - 2s 122ms/step - loss: 4.9913e-04 - val_loss: 0.0038\n",
      "Epoch 29/100\n",
      "19/19 [==============================] - 2s 122ms/step - loss: 4.6776e-04 - val_loss: 0.0032\n",
      "Epoch 30/100\n",
      "19/19 [==============================] - 2s 122ms/step - loss: 4.6086e-04 - val_loss: 0.0031\n",
      "Epoch 31/100\n",
      "19/19 [==============================] - 2s 121ms/step - loss: 4.7077e-04 - val_loss: 0.0030\n",
      "Epoch 32/100\n",
      "19/19 [==============================] - 2s 123ms/step - loss: 4.4366e-04 - val_loss: 0.0038\n",
      "Epoch 33/100\n",
      "19/19 [==============================] - 2s 123ms/step - loss: 4.1489e-04 - val_loss: 0.0027\n",
      "Epoch 34/100\n",
      "19/19 [==============================] - 2s 122ms/step - loss: 4.1169e-04 - val_loss: 0.0031\n",
      "Epoch 35/100\n",
      "19/19 [==============================] - 2s 126ms/step - loss: 4.0247e-04 - val_loss: 0.0023\n",
      "Epoch 36/100\n",
      "19/19 [==============================] - 2s 122ms/step - loss: 4.0593e-04 - val_loss: 0.0036\n",
      "Epoch 37/100\n",
      "19/19 [==============================] - 2s 123ms/step - loss: 4.2829e-04 - val_loss: 0.0023\n",
      "Epoch 38/100\n",
      "19/19 [==============================] - 2s 121ms/step - loss: 3.7582e-04 - val_loss: 0.0030\n",
      "Epoch 39/100\n",
      "19/19 [==============================] - 2s 124ms/step - loss: 3.6847e-04 - val_loss: 0.0028\n",
      "Epoch 40/100\n",
      "19/19 [==============================] - 2s 131ms/step - loss: 3.4039e-04 - val_loss: 0.0024\n",
      "Epoch 41/100\n",
      "19/19 [==============================] - 2s 121ms/step - loss: 3.4167e-04 - val_loss: 0.0015\n",
      "Epoch 42/100\n",
      "19/19 [==============================] - 2s 123ms/step - loss: 3.2835e-04 - val_loss: 0.0026\n",
      "Epoch 43/100\n",
      "19/19 [==============================] - 3s 136ms/step - loss: 3.0317e-04 - val_loss: 0.0019\n",
      "Epoch 44/100\n",
      "19/19 [==============================] - 3s 173ms/step - loss: 3.3866e-04 - val_loss: 0.0011\n",
      "Epoch 45/100\n",
      "19/19 [==============================] - 3s 145ms/step - loss: 3.5689e-04 - val_loss: 0.0033\n",
      "Epoch 46/100\n",
      "19/19 [==============================] - 2s 120ms/step - loss: 3.1630e-04 - val_loss: 0.0012\n",
      "Epoch 47/100\n",
      "19/19 [==============================] - 2s 123ms/step - loss: 2.9256e-04 - val_loss: 0.0012\n",
      "Epoch 48/100\n",
      "19/19 [==============================] - 2s 120ms/step - loss: 2.8390e-04 - val_loss: 0.0022\n",
      "Epoch 49/100\n",
      "19/19 [==============================] - 2s 121ms/step - loss: 2.7271e-04 - val_loss: 0.0019\n",
      "Epoch 50/100\n",
      "19/19 [==============================] - 2s 128ms/step - loss: 2.7047e-04 - val_loss: 0.0011\n",
      "Epoch 51/100\n",
      "19/19 [==============================] - 2s 121ms/step - loss: 2.9353e-04 - val_loss: 0.0015\n",
      "Epoch 52/100\n",
      "19/19 [==============================] - 2s 123ms/step - loss: 2.7463e-04 - val_loss: 0.0017\n",
      "Epoch 53/100\n",
      "19/19 [==============================] - 2s 122ms/step - loss: 2.5727e-04 - val_loss: 0.0014\n",
      "Epoch 54/100\n",
      "19/19 [==============================] - 3s 140ms/step - loss: 2.5273e-04 - val_loss: 0.0013\n",
      "Epoch 55/100\n",
      "19/19 [==============================] - 3s 143ms/step - loss: 2.3321e-04 - val_loss: 0.0013\n",
      "Epoch 56/100\n",
      "19/19 [==============================] - 3s 172ms/step - loss: 2.3264e-04 - val_loss: 0.0019\n",
      "Epoch 57/100\n",
      "19/19 [==============================] - 3s 140ms/step - loss: 2.3464e-04 - val_loss: 0.0013\n",
      "Epoch 58/100\n",
      "19/19 [==============================] - 3s 133ms/step - loss: 2.1804e-04 - val_loss: 0.0013\n",
      "Epoch 59/100\n",
      "19/19 [==============================] - 2s 122ms/step - loss: 2.1159e-04 - val_loss: 8.1578e-04\n",
      "Epoch 60/100\n",
      "19/19 [==============================] - 2s 124ms/step - loss: 2.0547e-04 - val_loss: 0.0020\n",
      "Epoch 61/100\n",
      "19/19 [==============================] - 2s 131ms/step - loss: 2.0851e-04 - val_loss: 8.4150e-04\n",
      "Epoch 62/100\n",
      "19/19 [==============================] - 2s 127ms/step - loss: 2.0302e-04 - val_loss: 5.7752e-04\n",
      "Epoch 63/100\n",
      "19/19 [==============================] - 2s 123ms/step - loss: 2.1052e-04 - val_loss: 0.0012\n",
      "Epoch 64/100\n",
      "19/19 [==============================] - 2s 124ms/step - loss: 2.0373e-04 - val_loss: 6.6901e-04\n",
      "Epoch 65/100\n",
      "19/19 [==============================] - 2s 132ms/step - loss: 2.2476e-04 - val_loss: 0.0021\n",
      "Epoch 66/100\n",
      "19/19 [==============================] - 3s 136ms/step - loss: 1.9143e-04 - val_loss: 0.0011\n",
      "Epoch 67/100\n",
      "19/19 [==============================] - 3s 137ms/step - loss: 1.7948e-04 - val_loss: 0.0013\n",
      "Epoch 68/100\n",
      "19/19 [==============================] - 3s 162ms/step - loss: 1.8169e-04 - val_loss: 0.0016\n",
      "Epoch 69/100\n",
      "19/19 [==============================] - 3s 135ms/step - loss: 1.7804e-04 - val_loss: 0.0015\n",
      "Epoch 70/100\n",
      "19/19 [==============================] - 2s 124ms/step - loss: 1.7344e-04 - val_loss: 7.8849e-04\n",
      "Epoch 71/100\n",
      "19/19 [==============================] - 3s 150ms/step - loss: 1.6615e-04 - val_loss: 0.0012\n",
      "Epoch 72/100\n",
      "19/19 [==============================] - 3s 142ms/step - loss: 1.6777e-04 - val_loss: 0.0013\n",
      "Epoch 73/100\n",
      "19/19 [==============================] - 3s 145ms/step - loss: 1.6476e-04 - val_loss: 8.5960e-04\n",
      "Epoch 74/100\n",
      "19/19 [==============================] - 3s 138ms/step - loss: 1.5864e-04 - val_loss: 0.0013\n",
      "Epoch 75/100\n",
      "19/19 [==============================] - 3s 154ms/step - loss: 1.5940e-04 - val_loss: 0.0012\n",
      "Epoch 76/100\n",
      "19/19 [==============================] - 3s 145ms/step - loss: 1.6065e-04 - val_loss: 7.8366e-04\n",
      "Epoch 77/100\n",
      "19/19 [==============================] - 3s 148ms/step - loss: 1.6182e-04 - val_loss: 8.7003e-04\n",
      "Epoch 78/100\n",
      "19/19 [==============================] - 2s 125ms/step - loss: 1.5709e-04 - val_loss: 0.0010\n",
      "Epoch 79/100\n",
      "19/19 [==============================] - 2s 124ms/step - loss: 1.4985e-04 - val_loss: 6.3718e-04\n",
      "Epoch 80/100\n",
      "19/19 [==============================] - 2s 133ms/step - loss: 1.6271e-04 - val_loss: 4.1608e-04\n",
      "Epoch 81/100\n",
      "19/19 [==============================] - 3s 151ms/step - loss: 1.8681e-04 - val_loss: 0.0015\n",
      "Epoch 82/100\n",
      "19/19 [==============================] - 3s 181ms/step - loss: 1.5053e-04 - val_loss: 0.0010\n",
      "Epoch 83/100\n",
      "19/19 [==============================] - 2s 131ms/step - loss: 1.4609e-04 - val_loss: 0.0015\n",
      "Epoch 84/100\n",
      "19/19 [==============================] - 3s 136ms/step - loss: 1.5884e-04 - val_loss: 6.0837e-04\n",
      "Epoch 85/100\n",
      "19/19 [==============================] - 3s 142ms/step - loss: 1.4401e-04 - val_loss: 0.0011\n",
      "Epoch 86/100\n",
      "19/19 [==============================] - 2s 127ms/step - loss: 1.4202e-04 - val_loss: 0.0012\n",
      "Epoch 87/100\n",
      "19/19 [==============================] - 2s 121ms/step - loss: 1.4275e-04 - val_loss: 6.5546e-04\n",
      "Epoch 88/100\n",
      "19/19 [==============================] - 2s 116ms/step - loss: 1.6039e-04 - val_loss: 9.0509e-04\n",
      "Epoch 89/100\n",
      "19/19 [==============================] - 2s 120ms/step - loss: 1.5632e-04 - val_loss: 7.6268e-04\n",
      "Epoch 90/100\n",
      "19/19 [==============================] - 3s 136ms/step - loss: 1.3697e-04 - val_loss: 5.5251e-04\n",
      "Epoch 91/100\n",
      "19/19 [==============================] - 3s 146ms/step - loss: 1.8094e-04 - val_loss: 9.8616e-04\n",
      "Epoch 92/100\n",
      "19/19 [==============================] - 2s 128ms/step - loss: 1.4037e-04 - val_loss: 6.5189e-04\n",
      "Epoch 93/100\n",
      "19/19 [==============================] - 2s 132ms/step - loss: 1.3546e-04 - val_loss: 8.2893e-04\n",
      "Epoch 94/100\n",
      "19/19 [==============================] - 2s 126ms/step - loss: 1.4580e-04 - val_loss: 0.0014\n",
      "Epoch 95/100\n",
      "19/19 [==============================] - 3s 139ms/step - loss: 1.4735e-04 - val_loss: 0.0012\n",
      "Epoch 96/100\n",
      "19/19 [==============================] - 3s 158ms/step - loss: 1.5333e-04 - val_loss: 7.3940e-04\n",
      "Epoch 97/100\n",
      "19/19 [==============================] - 3s 140ms/step - loss: 1.7293e-04 - val_loss: 7.6633e-04\n",
      "Epoch 98/100\n",
      "19/19 [==============================] - 2s 122ms/step - loss: 1.4794e-04 - val_loss: 5.8945e-04\n",
      "Epoch 99/100\n",
      "19/19 [==============================] - 2s 125ms/step - loss: 1.7801e-04 - val_loss: 5.6327e-04\n",
      "Epoch 100/100\n",
      "19/19 [==============================] - 2s 129ms/step - loss: 1.5087e-04 - val_loss: 0.0012\n"
     ]
    },
    {
     "name": "stderr",
     "output_type": "stream",
     "text": [
      "WARNING:absl:Found untraced functions such as lstm_cell_3_layer_call_fn, lstm_cell_3_layer_call_and_return_conditional_losses, lstm_cell_4_layer_call_fn, lstm_cell_4_layer_call_and_return_conditional_losses, lstm_cell_5_layer_call_fn while saving (showing 5 of 6). These functions will not be directly callable after loading.\n"
     ]
    },
    {
     "name": "stdout",
     "output_type": "stream",
     "text": [
      "INFO:tensorflow:Assets written to: ram://94fd409e-c585-4465-b291-ab1f5e3bda04/assets\n"
     ]
    },
    {
     "name": "stderr",
     "output_type": "stream",
     "text": [
      "INFO:tensorflow:Assets written to: ram://94fd409e-c585-4465-b291-ab1f5e3bda04/assets\n"
     ]
    },
    {
     "name": "stdout",
     "output_type": "stream",
     "text": [
      "Stored 'model' (History)\n"
     ]
    }
   ],
   "source": [
    "model = mdl.fit(X_training, Y_training, validation_data=(X_testing, Y_testing), epochs=100, batch_size=64, verbose=1);\n",
    "%store model"
   ]
  },
  {
   "cell_type": "code",
   "execution_count": 75,
   "id": "2f4d14d4",
   "metadata": {},
   "outputs": [
    {
     "data": {
      "image/png": "[encoded data removed]",
      "text/plain": [
       "<Figure size 432x288 with 1 Axes>"
      ]
     },
     "metadata": {
      "needs_background": "light"
     },
     "output_type": "display_data"
    }
   ],
   "source": [
    "# Ploting Loss of our trained model\n",
    "\n",
    "loss = mdl.history.history['loss']\n",
    "plt.plot(loss)\n",
    "plt.xlabel(\"Iterations\")\n",
    "plt.ylabel(\"Loss\")\n",
    "plt.title(\"Variations of Loss value with No. of Iterations\", color=\"orange\", fontsize=16, fontweight=\"bold\");"
   ]
  },
  {
   "cell_type": "code",
   "execution_count": 76,
   "id": "4d202c06",
   "metadata": {},
   "outputs": [
    {
     "name": "stdout",
     "output_type": "stream",
     "text": [
      "Model: \"sequential_1\"\n",
      "_________________________________________________________________\n",
      " Layer (type)                Output Shape              Param #   \n",
      "=================================================================\n",
      " lstm_3 (LSTM)               (None, 50, 50)            10400     \n",
      "                                                                 \n",
      " lstm_4 (LSTM)               (None, 50, 50)            20200     \n",
      "                                                                 \n",
      " lstm_5 (LSTM)               (None, 50)                20200     \n",
      "                                                                 \n",
      " dense_1 (Dense)             (None, 1)                 51        \n",
      "                                                                 \n",
      "=================================================================\n",
      "Total params: 50,851\n",
      "Trainable params: 50,851\n",
      "Non-trainable params: 0\n",
      "_________________________________________________________________\n"
     ]
    }
   ],
   "source": [
    "mdl.summary()"
   ]
  },
  {
   "cell_type": "code",
   "execution_count": 77,
   "id": "0903d131",
   "metadata": {},
   "outputs": [
    {
     "name": "stdout",
     "output_type": "stream",
     "text": [
      "37/37 [==============================] - 7s 49ms/step\n",
      "24/24 [==============================] - 1s 39ms/step\n"
     ]
    }
   ],
   "source": [
    "#generation of prediction for training and testing datasets\n",
    "\n",
    "train_preds = scaler.inverse_transform(mdl.predict(X_training))\n",
    "\n",
    "test_preds = scaler.inverse_transform(mdl.predict(X_testing))"
   ]
  },
  {
   "cell_type": "code",
   "execution_count": 20,
   "id": "4832a749",
   "metadata": {},
   "outputs": [
    {
     "data": {
      "text/plain": [
       "(1170, 1)"
      ]
     },
     "execution_count": 20,
     "metadata": {},
     "output_type": "execute_result"
    }
   ],
   "source": [
    "train_preds.shape"
   ]
  },
  {
   "cell_type": "markdown",
   "id": "99505043",
   "metadata": {},
   "source": [
    "# 7. Visualisations of comparisons and Projections"
   ]
  },
  {
   "cell_type": "code",
   "execution_count": 21,
   "id": "10a8e347",
   "metadata": {},
   "outputs": [
    {
     "data": {
      "text/plain": [
       "Text(0, 0.5, 'Closing Price')"
      ]
     },
     "execution_count": 21,
     "metadata": {},
     "output_type": "execute_result"
    },
    {
     "data": {
      "image/png": "[encoded data removed]",
      "text/plain": [
       "<Figure size 432x288 with 1 Axes>"
      ]
     },
     "metadata": {
      "needs_background": "light"
     },
     "output_type": "display_data"
    }
   ],
   "source": [
    "plt.plot(scaler.inverse_transform(df))\n",
    "plt.title(\"Variation of real dataset\")\n",
    "plt.xlabel(\"Index\")\n",
    "plt.ylabel(\"Closing Price\")"
   ]
  },
  {
   "cell_type": "code",
   "execution_count": 29,
   "id": "0d756066",
   "metadata": {},
   "outputs": [],
   "source": [
    "#shifting trained predictions for plotting\n",
    "#putting actual and predicted in same curve\n",
    "look_back = 50\n",
    "\n",
    "#The empty_like() function is used to create a new array with the same shape and type as a given array.\n",
    "trainPredictPlot = np.empty_like(df)\n",
    "\n",
    "#nan (Empty value are assigned in the all place of trainPredictPlot)\n",
    "trainPredictPlot[:,:] = np.nan\n",
    "\n",
    "\n",
    "#Because predictoin started from 50th point onwards prediction (y) starts from 51th \n",
    "trainPredictPlot[look_back:len(train_preds)+look_back, :] = train_preds\n",
    "\n",
    "\n",
    "#doing same for the testing data\n",
    "testPredictPlot = np.empty_like(df)\n",
    "testPredictPlot[:, :] = np.nan\n",
    "testPredictPlot[len(train_preds)+(look_back*2)+1:len(df)-1, :] = test_preds"
   ]
  },
  {
   "cell_type": "markdown",
   "id": "98526266",
   "metadata": {},
   "source": [
    "## Varation of actual dataset with predicted dataset\n",
    "\n",
    "### Since we have used data of 50th day to predict the output of 51st day. logic of that is written below"
   ]
  },
  {
   "cell_type": "code",
   "execution_count": 28,
   "id": "5b3515ee",
   "metadata": {},
   "outputs": [
    {
     "data": {
      "image/png": "[encoded data removed]",
      "text/plain": [
       "<Figure size 432x288 with 1 Axes>"
      ]
     },
     "metadata": {
      "needs_background": "light"
     },
     "output_type": "display_data"
    }
   ],
   "source": [
    "\n",
    "\n",
    "\n",
    "\n",
    "plt.plot(scaler.inverse_transform(df))\n",
    "plt.plot(train_preds)\n",
    "plt.title(\"Variation of real dataset from predicted\",fontsize = \"15\")\n",
    "plt.xlabel(\"Index\")\n",
    "plt.ylabel(\"Closing Price\")\n",
    "plt.plot(testPredictPlot)\n",
    "plt.show()"
   ]
  },
  {
   "cell_type": "markdown",
   "id": "1d91d86d",
   "metadata": {},
   "source": [
    "# 8. Forecasting future data"
   ]
  },
  {
   "cell_type": "code",
   "execution_count": 31,
   "id": "362bd7a1",
   "metadata": {},
   "outputs": [
    {
     "data": {
      "text/plain": [
       "(1170, 763)"
      ]
     },
     "execution_count": 31,
     "metadata": {},
     "output_type": "execute_result"
    }
   ],
   "source": [
    "len(X_training) , len(X_testing)"
   ]
  },
  {
   "cell_type": "markdown",
   "id": "c6868a28",
   "metadata": {},
   "source": [
    "### For forecasting what we do is we take the data of the last 50 days and the forecast for the next 51st day.\n",
    "### Again we shift by 1 and take those 2-51 i,e 50 data for the forecasting of 52nd day. \n",
    "### We repeat same for predicting next 28 days"
   ]
  },
  {
   "cell_type": "code",
   "execution_count": 104,
   "id": "c4bd009d",
   "metadata": {},
   "outputs": [
    {
     "data": {
      "text/plain": [
       "(50, 1)"
      ]
     },
     "execution_count": 104,
     "metadata": {},
     "output_type": "execute_result"
    }
   ],
   "source": [
    "preds_input = testing_data[764:]\n",
    "preds_input.shape"
   ]
  },
  {
   "cell_type": "code",
   "execution_count": 105,
   "id": "0780096a",
   "metadata": {},
   "outputs": [],
   "source": [
    "preds_input = preds_input.reshape(1, -1)"
   ]
  },
  {
   "cell_type": "code",
   "execution_count": 112,
   "id": "5b20692b",
   "metadata": {},
   "outputs": [
    {
     "data": {
      "text/plain": [
       "1"
      ]
     },
     "execution_count": 112,
     "metadata": {},
     "output_type": "execute_result"
    }
   ],
   "source": [
    "temp_input = list(preds_input)\n",
    "len(temp_input)"
   ]
  },
  {
   "cell_type": "code",
   "execution_count": 107,
   "id": "e8ba1b87",
   "metadata": {},
   "outputs": [],
   "source": [
    "temp_input = temp_input[0].tolist()"
   ]
  },
  {
   "cell_type": "code",
   "execution_count": 108,
   "id": "2375385e",
   "metadata": {},
   "outputs": [
    {
     "data": {
      "text/plain": [
       "50"
      ]
     },
     "execution_count": 108,
     "metadata": {},
     "output_type": "execute_result"
    }
   ],
   "source": [
    "len(temp_input)"
   ]
  },
  {
   "cell_type": "code",
   "execution_count": 139,
   "id": "0dac5e82",
   "metadata": {},
   "outputs": [],
   "source": [
    "\n",
    "Thirty_days_output=[]\n",
    "i=0\n",
    "\n",
    "while(i<30):\n",
    "    if(len(temp_input)>50):\n",
    "        temp_input = temp_input[1:]\n",
    "        preds_input=np.array(temp_input)\n",
    "        preds_input=preds_input.reshape(1,-1)\n",
    "    \n",
    "\n",
    "\n",
    "    preds_input = preds_input.reshape(1, n_dataset_length,1)\n",
    "    day_output = mdl.predict(preds_input, verbose=0)\n",
    "    temp_input.extend(day_output[0].tolist()) # Put in inpu i,e original\n",
    "    Thirty_days_output.extend(day_output.tolist()) #Put in 30 days array\n",
    "\n",
    "    #print(f\"Day-{i+1} input:\\n\\n{preds_input}\\n\\n\")\n",
    "    #print(f\"Day-{i+1} output:\\n\\n{day_output}\\n\\n\")\n",
    "    i=i+1"
   ]
  },
  {
   "cell_type": "code",
   "execution_count": 115,
   "id": "9b5f79cb",
   "metadata": {},
   "outputs": [
    {
     "data": {
      "text/plain": [
       "[[0.5955338478088379],\n",
       " [0.5955338478088379],\n",
       " [0.5955338478088379],\n",
       " [0.5955338478088379],\n",
       " [0.5955338478088379],\n",
       " [0.5955338478088379],\n",
       " [0.5955338478088379],\n",
       " [0.5955338478088379],\n",
       " [0.5955338478088379],\n",
       " [0.5955338478088379],\n",
       " [0.5955338478088379],\n",
       " [0.5955338478088379],\n",
       " [0.5955338478088379],\n",
       " [0.5955338478088379],\n",
       " [0.5955338478088379],\n",
       " [0.5955338478088379],\n",
       " [0.5955338478088379],\n",
       " [0.5955338478088379],\n",
       " [0.5955338478088379],\n",
       " [0.5955338478088379],\n",
       " [0.5955338478088379],\n",
       " [0.5955338478088379],\n",
       " [0.5955338478088379],\n",
       " [0.5955338478088379],\n",
       " [0.5955338478088379],\n",
       " [0.5955338478088379],\n",
       " [0.5955338478088379],\n",
       " [0.5955338478088379],\n",
       " [0.5955338478088379],\n",
       " [0.5955338478088379]]"
      ]
     },
     "execution_count": 115,
     "metadata": {},
     "output_type": "execute_result"
    }
   ],
   "source": [
    "Thirty_days_output"
   ]
  },
  {
   "cell_type": "code",
   "execution_count": 135,
   "id": "73390321",
   "metadata": {},
   "outputs": [
    {
     "data": {
      "image/png": "[encoded data removed]",
      "text/plain": [
       "<Figure size 432x288 with 1 Axes>"
      ]
     },
     "metadata": {
      "needs_background": "light"
     },
     "output_type": "display_data"
    }
   ],
   "source": [
    "\n",
    "new_50_days = np.arange(1,51)\n",
    "predicted_30_days = np.arange(51,81)\n",
    "\n",
    "new_50_days_output = df[1985:]\n",
    "plt.plot(new_50_days, scaler.inverse_transform(new_50_days_output))\n",
    "plt.plot(predicted_30_days, scaler.inverse_transform(Thirty_days_output));"
   ]
  },
  {
   "cell_type": "code",
   "execution_count": 137,
   "id": "3bc7ece0",
   "metadata": {},
   "outputs": [],
   "source": [
    "new_50_days_output_list = new_50_days_output.tolist()\n",
    "new_50_days_output_list.extend(Thirty_days_output)"
   ]
  },
  {
   "cell_type": "code",
   "execution_count": 138,
   "id": "21cd2b9a",
   "metadata": {},
   "outputs": [
    {
     "data": {
      "image/png": "[encoded data removed]",
      "text/plain": [
       "<Figure size 432x288 with 1 Axes>"
      ]
     },
     "metadata": {
      "needs_background": "light"
     },
     "output_type": "display_data"
    }
   ],
   "source": [
    "plt.plot(scaler.inverse_transform(Latest_100_days_output_list));"
   ]
  },
  {
   "cell_type": "markdown",
   "id": "b620fdc0",
   "metadata": {},
   "source": [
    "# Above is the prediction made by the model"
   ]
  },
  {
   "cell_type": "code",
   "execution_count": null,
   "id": "ef439a18",
   "metadata": {},
   "outputs": [],
   "source": []
  }
 ],
 "metadata": {
  "kernelspec": {
   "display_name": "Python 3",
   "language": "python",
   "name": "python3"
  },
  "language_info": {
   "codemirror_mode": {
    "name": "ipython",
    "version": 3
   },
   "file_extension": ".py",
   "mimetype": "text/x-python",
   "name": "python",
   "nbconvert_exporter": "python",
   "pygments_lexer": "ipython3",
   "version": "3.8.8"
  }
 },
 "nbformat": 4,
 "nbformat_minor": 5
}
